{
 "cells": [
  {
   "cell_type": "code",
   "execution_count": 48,
   "id": "d6e3925d",
   "metadata": {},
   "outputs": [
    {
     "name": "stdout",
     "output_type": "stream",
     "text": [
      "                                                  Name  Calories  Fat (g)  \\\n",
      "0             Cool Lime Starbucks Refreshers™ Beverage      45.0      0.0   \n",
      "1                                     Ombré Pink Drink       NaN      NaN   \n",
      "2                                           Pink Drink       NaN      NaN   \n",
      "3       Strawberry Acai Starbucks Refreshers™ Beverage      80.0      0.0   \n",
      "4    Very Berry Hibiscus Starbucks Refreshers™ Beve...      60.0      0.0   \n",
      "..                                                 ...       ...      ...   \n",
      "172                                 Chocolate Smoothie     320.0      5.0   \n",
      "173                                Strawberry Smoothie     300.0      2.0   \n",
      "174                                         Ginger Ale       NaN      NaN   \n",
      "175                                          Lemon Ale       NaN      NaN   \n",
      "176                                  Orange Cream Soda       NaN      NaN   \n",
      "\n",
      "     Carb. (g)  Fiber (g)  Protein  Sodium  \n",
      "0         11.0        0.0      0.0    10.0  \n",
      "1          NaN        NaN      NaN     NaN  \n",
      "2          NaN        NaN      NaN     NaN  \n",
      "3         18.0        1.0      0.0    10.0  \n",
      "4         14.0        1.0      0.0    10.0  \n",
      "..         ...        ...      ...     ...  \n",
      "172       53.0        8.0     20.0   170.0  \n",
      "173       60.0        7.0     16.0   130.0  \n",
      "174        NaN        NaN      NaN     NaN  \n",
      "175        NaN        NaN      NaN     NaN  \n",
      "176        NaN        NaN      NaN     NaN  \n",
      "\n",
      "[177 rows x 7 columns]\n"
     ]
    }
   ],
   "source": [
    "# DE Assignment -1 \n",
    "#Exploring Data using various methods\n",
    "\n",
    "# Import all required libraries and methods\n",
    "import pandas as pd\n",
    "import numpy as np\n",
    "from sklearn.impute import SimpleImputer\n",
    "\n",
    "# Reading data from a CSV file into a DataFrame\n",
    "data = pd.read_csv(r\"C:\\Users\\anupama\\Downloads\\archive (1)\\starbucks-menu-nutrition-drinks.csv\")\n",
    "\n",
    "print(data)"
   ]
  },
  {
   "cell_type": "code",
   "execution_count": 2,
   "id": "9fc01ae8",
   "metadata": {},
   "outputs": [
    {
     "data": {
      "text/html": [
       "<div>\n",
       "<style scoped>\n",
       "    .dataframe tbody tr th:only-of-type {\n",
       "        vertical-align: middle;\n",
       "    }\n",
       "\n",
       "    .dataframe tbody tr th {\n",
       "        vertical-align: top;\n",
       "    }\n",
       "\n",
       "    .dataframe thead th {\n",
       "        text-align: right;\n",
       "    }\n",
       "</style>\n",
       "<table border=\"1\" class=\"dataframe\">\n",
       "  <thead>\n",
       "    <tr style=\"text-align: right;\">\n",
       "      <th></th>\n",
       "      <th>Name</th>\n",
       "      <th>Calories</th>\n",
       "      <th>Fat (g)</th>\n",
       "      <th>Carb. (g)</th>\n",
       "      <th>Fiber (g)</th>\n",
       "      <th>Protein</th>\n",
       "      <th>Sodium</th>\n",
       "    </tr>\n",
       "  </thead>\n",
       "  <tbody>\n",
       "    <tr>\n",
       "      <th>0</th>\n",
       "      <td>Cool Lime Starbucks Refreshers™ Beverage</td>\n",
       "      <td>45.0</td>\n",
       "      <td>0.0</td>\n",
       "      <td>11.0</td>\n",
       "      <td>0.0</td>\n",
       "      <td>0.0</td>\n",
       "      <td>10.0</td>\n",
       "    </tr>\n",
       "    <tr>\n",
       "      <th>1</th>\n",
       "      <td>Ombré Pink Drink</td>\n",
       "      <td>NaN</td>\n",
       "      <td>NaN</td>\n",
       "      <td>NaN</td>\n",
       "      <td>NaN</td>\n",
       "      <td>NaN</td>\n",
       "      <td>NaN</td>\n",
       "    </tr>\n",
       "    <tr>\n",
       "      <th>2</th>\n",
       "      <td>Pink Drink</td>\n",
       "      <td>NaN</td>\n",
       "      <td>NaN</td>\n",
       "      <td>NaN</td>\n",
       "      <td>NaN</td>\n",
       "      <td>NaN</td>\n",
       "      <td>NaN</td>\n",
       "    </tr>\n",
       "    <tr>\n",
       "      <th>3</th>\n",
       "      <td>Strawberry Acai Starbucks Refreshers™ Beverage</td>\n",
       "      <td>80.0</td>\n",
       "      <td>0.0</td>\n",
       "      <td>18.0</td>\n",
       "      <td>1.0</td>\n",
       "      <td>0.0</td>\n",
       "      <td>10.0</td>\n",
       "    </tr>\n",
       "    <tr>\n",
       "      <th>4</th>\n",
       "      <td>Very Berry Hibiscus Starbucks Refreshers™ Beve...</td>\n",
       "      <td>60.0</td>\n",
       "      <td>0.0</td>\n",
       "      <td>14.0</td>\n",
       "      <td>1.0</td>\n",
       "      <td>0.0</td>\n",
       "      <td>10.0</td>\n",
       "    </tr>\n",
       "  </tbody>\n",
       "</table>\n",
       "</div>"
      ],
      "text/plain": [
       "                                                Name  Calories  Fat (g)  \\\n",
       "0           Cool Lime Starbucks Refreshers™ Beverage      45.0      0.0   \n",
       "1                                   Ombré Pink Drink       NaN      NaN   \n",
       "2                                         Pink Drink       NaN      NaN   \n",
       "3     Strawberry Acai Starbucks Refreshers™ Beverage      80.0      0.0   \n",
       "4  Very Berry Hibiscus Starbucks Refreshers™ Beve...      60.0      0.0   \n",
       "\n",
       "   Carb. (g)  Fiber (g)  Protein  Sodium  \n",
       "0       11.0        0.0      0.0    10.0  \n",
       "1        NaN        NaN      NaN     NaN  \n",
       "2        NaN        NaN      NaN     NaN  \n",
       "3       18.0        1.0      0.0    10.0  \n",
       "4       14.0        1.0      0.0    10.0  "
      ]
     },
     "execution_count": 2,
     "metadata": {},
     "output_type": "execute_result"
    }
   ],
   "source": [
    "# This function displays first 5 records\n",
    "\n",
    "data.head()"
   ]
  },
  {
   "cell_type": "code",
   "execution_count": 3,
   "id": "fb4de72e",
   "metadata": {},
   "outputs": [
    {
     "data": {
      "text/html": [
       "<div>\n",
       "<style scoped>\n",
       "    .dataframe tbody tr th:only-of-type {\n",
       "        vertical-align: middle;\n",
       "    }\n",
       "\n",
       "    .dataframe tbody tr th {\n",
       "        vertical-align: top;\n",
       "    }\n",
       "\n",
       "    .dataframe thead th {\n",
       "        text-align: right;\n",
       "    }\n",
       "</style>\n",
       "<table border=\"1\" class=\"dataframe\">\n",
       "  <thead>\n",
       "    <tr style=\"text-align: right;\">\n",
       "      <th></th>\n",
       "      <th>Name</th>\n",
       "      <th>Calories</th>\n",
       "      <th>Fat (g)</th>\n",
       "      <th>Carb. (g)</th>\n",
       "      <th>Fiber (g)</th>\n",
       "      <th>Protein</th>\n",
       "      <th>Sodium</th>\n",
       "    </tr>\n",
       "  </thead>\n",
       "  <tbody>\n",
       "    <tr>\n",
       "      <th>172</th>\n",
       "      <td>Chocolate Smoothie</td>\n",
       "      <td>320.0</td>\n",
       "      <td>5.0</td>\n",
       "      <td>53.0</td>\n",
       "      <td>8.0</td>\n",
       "      <td>20.0</td>\n",
       "      <td>170.0</td>\n",
       "    </tr>\n",
       "    <tr>\n",
       "      <th>173</th>\n",
       "      <td>Strawberry Smoothie</td>\n",
       "      <td>300.0</td>\n",
       "      <td>2.0</td>\n",
       "      <td>60.0</td>\n",
       "      <td>7.0</td>\n",
       "      <td>16.0</td>\n",
       "      <td>130.0</td>\n",
       "    </tr>\n",
       "    <tr>\n",
       "      <th>174</th>\n",
       "      <td>Ginger Ale</td>\n",
       "      <td>NaN</td>\n",
       "      <td>NaN</td>\n",
       "      <td>NaN</td>\n",
       "      <td>NaN</td>\n",
       "      <td>NaN</td>\n",
       "      <td>NaN</td>\n",
       "    </tr>\n",
       "    <tr>\n",
       "      <th>175</th>\n",
       "      <td>Lemon Ale</td>\n",
       "      <td>NaN</td>\n",
       "      <td>NaN</td>\n",
       "      <td>NaN</td>\n",
       "      <td>NaN</td>\n",
       "      <td>NaN</td>\n",
       "      <td>NaN</td>\n",
       "    </tr>\n",
       "    <tr>\n",
       "      <th>176</th>\n",
       "      <td>Orange Cream Soda</td>\n",
       "      <td>NaN</td>\n",
       "      <td>NaN</td>\n",
       "      <td>NaN</td>\n",
       "      <td>NaN</td>\n",
       "      <td>NaN</td>\n",
       "      <td>NaN</td>\n",
       "    </tr>\n",
       "  </tbody>\n",
       "</table>\n",
       "</div>"
      ],
      "text/plain": [
       "                    Name  Calories  Fat (g)  Carb. (g)  Fiber (g)  Protein  \\\n",
       "172   Chocolate Smoothie     320.0      5.0       53.0        8.0     20.0   \n",
       "173  Strawberry Smoothie     300.0      2.0       60.0        7.0     16.0   \n",
       "174           Ginger Ale       NaN      NaN        NaN        NaN      NaN   \n",
       "175            Lemon Ale       NaN      NaN        NaN        NaN      NaN   \n",
       "176    Orange Cream Soda       NaN      NaN        NaN        NaN      NaN   \n",
       "\n",
       "     Sodium  \n",
       "172   170.0  \n",
       "173   130.0  \n",
       "174     NaN  \n",
       "175     NaN  \n",
       "176     NaN  "
      ]
     },
     "execution_count": 3,
     "metadata": {},
     "output_type": "execute_result"
    }
   ],
   "source": [
    "# This function displays last 5 records\n",
    "\n",
    "data.tail()"
   ]
  },
  {
   "cell_type": "code",
   "execution_count": 4,
   "id": "8ca20da1",
   "metadata": {},
   "outputs": [
    {
     "name": "stdout",
     "output_type": "stream",
     "text": [
      "<class 'pandas.core.frame.DataFrame'>\n",
      "RangeIndex: 177 entries, 0 to 176\n",
      "Data columns (total 7 columns):\n",
      " #   Column     Non-Null Count  Dtype  \n",
      "---  ------     --------------  -----  \n",
      " 0   Name       177 non-null    object \n",
      " 1   Calories   92 non-null     float64\n",
      " 2   Fat (g)    92 non-null     float64\n",
      " 3   Carb. (g)  92 non-null     float64\n",
      " 4   Fiber (g)  92 non-null     float64\n",
      " 5   Protein    92 non-null     float64\n",
      " 6   Sodium     92 non-null     float64\n",
      "dtypes: float64(6), object(1)\n",
      "memory usage: 9.8+ KB\n"
     ]
    }
   ],
   "source": [
    "# This function displays the characteristics of the imported DataFrame\n",
    "\n",
    "data.info()"
   ]
  },
  {
   "cell_type": "code",
   "execution_count": 5,
   "id": "d4b800cb",
   "metadata": {},
   "outputs": [
    {
     "data": {
      "text/plain": [
       "(177, 7)"
      ]
     },
     "execution_count": 5,
     "metadata": {},
     "output_type": "execute_result"
    }
   ],
   "source": [
    "#This function shows the number of rows and columns of the DataFrame\n",
    "\n",
    "data.shape"
   ]
  },
  {
   "cell_type": "code",
   "execution_count": 6,
   "id": "91a5b232",
   "metadata": {},
   "outputs": [
    {
     "name": "stdout",
     "output_type": "stream",
     "text": [
      "                                                 Name  Calories\n",
      "1                                    Ombré Pink Drink       NaN\n",
      "2                                          Pink Drink       NaN\n",
      "3      Strawberry Acai Starbucks Refreshers™ Beverage      80.0\n",
      "4   Very Berry Hibiscus Starbucks Refreshers™ Beve...      60.0\n",
      "5                                        Violet Drink       NaN\n",
      "6      Evolution Fresh™ ColdPressed Apple Berry Juice       NaN\n",
      "7                         Evolution Fresh™ Defense Up       NaN\n",
      "8             Evolution Fresh™ Organic Ginger Limeade     110.0\n",
      "9                                         Iced Coffee       0.0\n",
      "10                              Iced Coffee with Milk       NaN\n"
     ]
    }
   ],
   "source": [
    "# This function is used to display the required rows and columns.\n",
    "\n",
    "print(data.loc[1:10,[\"Name\", \"Calories\"]])"
   ]
  },
  {
   "cell_type": "code",
   "execution_count": 7,
   "id": "5f780400",
   "metadata": {},
   "outputs": [
    {
     "data": {
      "text/plain": [
       "Name         False\n",
       "Calories      True\n",
       "Fat (g)       True\n",
       "Carb. (g)     True\n",
       "Fiber (g)     True\n",
       "Protein       True\n",
       "Sodium        True\n",
       "dtype: bool"
      ]
     },
     "execution_count": 7,
     "metadata": {},
     "output_type": "execute_result"
    }
   ],
   "source": [
    "# This function is used to determine if there are any null values in the DataFrame, returns true for columns which have null values.\n",
    "\n",
    "data.isnull().any()"
   ]
  },
  {
   "cell_type": "code",
   "execution_count": 8,
   "id": "cabe7789",
   "metadata": {},
   "outputs": [
    {
     "data": {
      "text/plain": [
       "Name         False\n",
       "Calories      True\n",
       "Fat (g)       True\n",
       "Carb. (g)     True\n",
       "Fiber (g)     True\n",
       "Protein       True\n",
       "Sodium        True\n",
       "dtype: bool"
      ]
     },
     "execution_count": 8,
     "metadata": {},
     "output_type": "execute_result"
    }
   ],
   "source": [
    "# This function is used to determine if there are any null values in the DataFrame, returns true for columns which have null values.\n",
    "\n",
    "\n",
    "data.isna().any()"
   ]
  },
  {
   "cell_type": "code",
   "execution_count": 9,
   "id": "72996acb",
   "metadata": {},
   "outputs": [
    {
     "data": {
      "text/plain": [
       "Name          0\n",
       "Calories     85\n",
       "Fat (g)      85\n",
       "Carb. (g)    85\n",
       "Fiber (g)    85\n",
       "Protein      85\n",
       "Sodium       85\n",
       "dtype: int64"
      ]
     },
     "execution_count": 9,
     "metadata": {},
     "output_type": "execute_result"
    }
   ],
   "source": [
    "# This function is used to determine total number of null values in each column in the DataFrame.\n",
    "\n",
    "data.isna().sum()"
   ]
  },
  {
   "cell_type": "code",
   "execution_count": 10,
   "id": "03422e74",
   "metadata": {},
   "outputs": [
    {
     "data": {
      "text/plain": [
       "Name          0\n",
       "Calories     85\n",
       "Fat (g)      85\n",
       "Carb. (g)    85\n",
       "Fiber (g)    85\n",
       "Protein      85\n",
       "Sodium       85\n",
       "dtype: int64"
      ]
     },
     "execution_count": 10,
     "metadata": {},
     "output_type": "execute_result"
    }
   ],
   "source": [
    "# This function is used to determine total number of null values in each column in the DataFrame.\n",
    "\n",
    "data.isnull().sum()"
   ]
  },
  {
   "cell_type": "code",
   "execution_count": 11,
   "id": "c5ef8aad",
   "metadata": {},
   "outputs": [
    {
     "data": {
      "text/plain": [
       "6"
      ]
     },
     "execution_count": 11,
     "metadata": {},
     "output_type": "execute_result"
    }
   ],
   "source": [
    "# This function is used to determine total number of columns having null values in the DataFrame.\n",
    "\n",
    "\n",
    "data.isna().any().sum()\n",
    "data.isnull().any().sum()"
   ]
  },
  {
   "cell_type": "code",
   "execution_count": 12,
   "id": "054b552d",
   "metadata": {},
   "outputs": [
    {
     "name": "stdout",
     "output_type": "stream",
     "text": [
      "                                                  Name  Calories  Fat (g)  \\\n",
      "0             Cool Lime Starbucks Refreshers™ Beverage      45.0      0.0   \n",
      "1                                     Ombré Pink Drink       NaN      NaN   \n",
      "2                                           Pink Drink       NaN      NaN   \n",
      "3       Strawberry Acai Starbucks Refreshers™ Beverage      80.0      0.0   \n",
      "4    Very Berry Hibiscus Starbucks Refreshers™ Beve...      60.0      0.0   \n",
      "..                                                 ...       ...      ...   \n",
      "172                                 Chocolate Smoothie     320.0      5.0   \n",
      "173                                Strawberry Smoothie     300.0      2.0   \n",
      "174                                         Ginger Ale       NaN      NaN   \n",
      "175                                          Lemon Ale       NaN      NaN   \n",
      "176                                  Orange Cream Soda       NaN      NaN   \n",
      "\n",
      "     Carb. (g)  Fiber (g)  Protein  \n",
      "0         11.0        0.0      0.0  \n",
      "1          NaN        NaN      NaN  \n",
      "2          NaN        NaN      NaN  \n",
      "3         18.0        1.0      0.0  \n",
      "4         14.0        1.0      0.0  \n",
      "..         ...        ...      ...  \n",
      "172       53.0        8.0     20.0  \n",
      "173       60.0        7.0     16.0  \n",
      "174        NaN        NaN      NaN  \n",
      "175        NaN        NaN      NaN  \n",
      "176        NaN        NaN      NaN  \n",
      "\n",
      "[177 rows x 6 columns]\n"
     ]
    }
   ],
   "source": [
    "data_drop = pd.read_csv(r\"C:\\Users\\anupama\\Downloads\\archive (1)\\starbucks-menu-nutrition-drinks.csv\") \n",
    "\n",
    "# This function is used to drop a particular Column or Feature, inplace=True makes changes in same DataFrame whereas inplace=False creates new Dataframe.\n",
    "\n",
    "data_drop.drop('Sodium', axis=1, inplace=True)\n",
    "\n",
    "print(data_drop)"
   ]
  },
  {
   "cell_type": "code",
   "execution_count": 19,
   "id": "e735dcd7",
   "metadata": {},
   "outputs": [
    {
     "name": "stdout",
     "output_type": "stream",
     "text": [
      "                                                  Name  Calories  Fat (g)  \\\n",
      "0             Cool Lime Starbucks Refreshers™ Beverage      45.0      0.0   \n",
      "3       Strawberry Acai Starbucks Refreshers™ Beverage      80.0      0.0   \n",
      "4    Very Berry Hibiscus Starbucks Refreshers™ Beve...      60.0      0.0   \n",
      "8              Evolution Fresh™ Organic Ginger Limeade     110.0      0.0   \n",
      "9                                          Iced Coffee       0.0      0.0   \n",
      "..                                                 ...       ...      ...   \n",
      "159            Mocha Light Frappuccino® Blended Coffee     140.0      0.5   \n",
      "168                               Cinnamon Dolce Crème     200.0      6.0   \n",
      "171                                      Vanilla Crème     200.0      6.0   \n",
      "172                                 Chocolate Smoothie     320.0      5.0   \n",
      "173                                Strawberry Smoothie     300.0      2.0   \n",
      "\n",
      "     Carb. (g)  Fiber (g)  Protein  Sodium  \n",
      "0         11.0        0.0      0.0    10.0  \n",
      "3         18.0        1.0      0.0    10.0  \n",
      "4         14.0        1.0      0.0    10.0  \n",
      "8         28.0        0.0      0.0     5.0  \n",
      "9          0.0        0.0      0.0     0.0  \n",
      "..         ...        ...      ...     ...  \n",
      "159       28.0        1.0      4.0   180.0  \n",
      "168       28.0        0.0     10.0   135.0  \n",
      "171       28.0        0.0     10.0   135.0  \n",
      "172       53.0        8.0     20.0   170.0  \n",
      "173       60.0        7.0     16.0   130.0  \n",
      "\n",
      "[92 rows x 7 columns]\n"
     ]
    }
   ],
   "source": [
    "data1 = pd.read_csv(r\"C:\\Users\\anupama\\Downloads\\archive (1)\\starbucks-menu-nutrition-drinks.csv\") \n",
    "\n",
    "# This function is used to drop records having blank values.\n",
    "\n",
    "data_null_removed = data1.dropna()\n",
    "print(data_null_removed)"
   ]
  },
  {
   "cell_type": "code",
   "execution_count": 46,
   "id": "9e17c728",
   "metadata": {},
   "outputs": [
    {
     "name": "stdout",
     "output_type": "stream",
     "text": [
      "Calories     135.163043\n",
      "Fat (g)        2.336957\n",
      "Carb. (g)     24.739130\n",
      "Fiber (g)      0.445652\n",
      "Protein        4.152174\n",
      "Sodium        57.934783\n",
      "dtype: float64\n",
      "                                                  Name    Calories   Fat (g)  \\\n",
      "0             Cool Lime Starbucks Refreshers™ Beverage   45.000000  2.336957   \n",
      "3       Strawberry Acai Starbucks Refreshers™ Beverage   80.000000  2.336957   \n",
      "4    Very Berry Hibiscus Starbucks Refreshers™ Beve...   60.000000  2.336957   \n",
      "8              Evolution Fresh™ Organic Ginger Limeade  110.000000  2.336957   \n",
      "9                                          Iced Coffee  135.163043  2.336957   \n",
      "..                                                 ...         ...       ...   \n",
      "159            Mocha Light Frappuccino® Blended Coffee  140.000000  0.500000   \n",
      "168                               Cinnamon Dolce Crème  200.000000  6.000000   \n",
      "171                                      Vanilla Crème  200.000000  6.000000   \n",
      "172                                 Chocolate Smoothie  320.000000  5.000000   \n",
      "173                                Strawberry Smoothie  300.000000  2.000000   \n",
      "\n",
      "     Carb. (g)  Fiber (g)    Protein      Sodium  \n",
      "0     11.00000   0.445652   4.152174   10.000000  \n",
      "3     18.00000   1.000000   4.152174   10.000000  \n",
      "4     14.00000   1.000000   4.152174   10.000000  \n",
      "8     28.00000   0.445652   4.152174    5.000000  \n",
      "9     24.73913   0.445652   4.152174   57.934783  \n",
      "..         ...        ...        ...         ...  \n",
      "159   28.00000   1.000000   4.000000  180.000000  \n",
      "168   28.00000   0.445652  10.000000  135.000000  \n",
      "171   28.00000   0.445652  10.000000  135.000000  \n",
      "172   53.00000   8.000000  20.000000  170.000000  \n",
      "173   60.00000   7.000000  16.000000  130.000000  \n",
      "\n",
      "[92 rows x 7 columns]\n"
     ]
    }
   ],
   "source": [
    "# This function is used to return mean values of all columns.\n",
    "\n",
    "print(data_null_removed.mean())\n",
    "\n",
    "# This function is in two parts\n",
    "# 1. mask function is used to replace 0 with blank value.\n",
    "# 2. fillna function is used to fill blank values with the mean of that columns.\n",
    "\n",
    "data_mean = data_null_removed.mask(data_null_removed==0).fillna(data_null_removed.mean())\n",
    "print(data_mean)"
   ]
  },
  {
   "cell_type": "code",
   "execution_count": 45,
   "id": "a47fd544",
   "metadata": {},
   "outputs": [
    {
     "name": "stdout",
     "output_type": "stream",
     "text": [
      "Calories     130.0\n",
      "Fat (g)        0.0\n",
      "Carb. (g)     25.5\n",
      "Fiber (g)      0.0\n",
      "Protein        1.0\n",
      "Sodium        15.0\n",
      "dtype: float64\n",
      "                                                  Name  Calories  Fat (g)  \\\n",
      "0             Cool Lime Starbucks Refreshers™ Beverage      45.0      0.0   \n",
      "3       Strawberry Acai Starbucks Refreshers™ Beverage      80.0      0.0   \n",
      "4    Very Berry Hibiscus Starbucks Refreshers™ Beve...      60.0      0.0   \n",
      "8              Evolution Fresh™ Organic Ginger Limeade     110.0      0.0   \n",
      "9                                          Iced Coffee     130.0      0.0   \n",
      "..                                                 ...       ...      ...   \n",
      "159            Mocha Light Frappuccino® Blended Coffee     140.0      0.5   \n",
      "168                               Cinnamon Dolce Crème     200.0      6.0   \n",
      "171                                      Vanilla Crème     200.0      6.0   \n",
      "172                                 Chocolate Smoothie     320.0      5.0   \n",
      "173                                Strawberry Smoothie     300.0      2.0   \n",
      "\n",
      "     Carb. (g)  Fiber (g)  Protein  Sodium  \n",
      "0         11.0        0.0      1.0    10.0  \n",
      "3         18.0        1.0      1.0    10.0  \n",
      "4         14.0        1.0      1.0    10.0  \n",
      "8         28.0        0.0      1.0     5.0  \n",
      "9         25.5        0.0      1.0    15.0  \n",
      "..         ...        ...      ...     ...  \n",
      "159       28.0        1.0      4.0   180.0  \n",
      "168       28.0        0.0     10.0   135.0  \n",
      "171       28.0        0.0     10.0   135.0  \n",
      "172       53.0        8.0     20.0   170.0  \n",
      "173       60.0        7.0     16.0   130.0  \n",
      "\n",
      "[92 rows x 7 columns]\n"
     ]
    }
   ],
   "source": [
    "# This function is used to return median values of all columns.\n",
    "\n",
    "print(data_null_removed.median())\n",
    "\n",
    "# This function is in two parts\n",
    "# 1. mask function is used to replace 0 with blank value.\n",
    "# 2. fillna function is used to fill blank values with the median of that columns.\n",
    "\n",
    "data_median = data_null_removed.mask(data_null_removed==0).fillna(data_null_removed.median())\n",
    "print(data_median)"
   ]
  },
  {
   "cell_type": "code",
   "execution_count": 56,
   "id": "351bae22",
   "metadata": {},
   "outputs": [
    {
     "name": "stdout",
     "output_type": "stream",
     "text": [
      "                                                  Name  Calories  Fat (g)  \\\n",
      "0             Cool Lime Starbucks Refreshers™ Beverage      45.0      0.0   \n",
      "1                                     Ombré Pink Drink       NaN      NaN   \n",
      "2                                           Pink Drink       NaN      NaN   \n",
      "3       Strawberry Acai Starbucks Refreshers™ Beverage      80.0      0.0   \n",
      "4    Very Berry Hibiscus Starbucks Refreshers™ Beve...      60.0      0.0   \n",
      "..                                                 ...       ...      ...   \n",
      "172                                 Chocolate Smoothie     320.0      5.0   \n",
      "173                                Strawberry Smoothie     300.0      2.0   \n",
      "174                                         Ginger Ale       NaN      NaN   \n",
      "175                                          Lemon Ale       NaN      NaN   \n",
      "176                                  Orange Cream Soda       NaN      NaN   \n",
      "\n",
      "     Carb. (g)  Fiber (g)  Protein  Sodium  \n",
      "0         11.0        0.0      0.0    10.0  \n",
      "1          NaN        NaN      NaN     NaN  \n",
      "2          NaN        NaN      NaN     NaN  \n",
      "3         18.0        1.0      0.0    10.0  \n",
      "4         14.0        1.0      0.0    10.0  \n",
      "..         ...        ...      ...     ...  \n",
      "172       53.0        8.0     20.0   170.0  \n",
      "173       60.0        7.0     16.0   130.0  \n",
      "174        NaN        NaN      NaN     NaN  \n",
      "175        NaN        NaN      NaN     NaN  \n",
      "176        NaN        NaN      NaN     NaN  \n",
      "\n",
      "[177 rows x 7 columns]\n"
     ]
    }
   ],
   "source": [
    "data2 = pd.read_csv(r\"C:\\Users\\anupama\\Downloads\\archive (1)\\starbucks-menu-nutrition-drinks.csv\") \n",
    "print(data2)"
   ]
  },
  {
   "cell_type": "code",
   "execution_count": 58,
   "id": "dd7bd2ae",
   "metadata": {},
   "outputs": [
    {
     "name": "stdout",
     "output_type": "stream",
     "text": [
      "                                                  Name    Calories  Fat (g)  \\\n",
      "0             Cool Lime Starbucks Refreshers™ Beverage   45.000000      0.0   \n",
      "1                                     Ombré Pink Drink  135.163043      NaN   \n",
      "2                                           Pink Drink  135.163043      NaN   \n",
      "3       Strawberry Acai Starbucks Refreshers™ Beverage   80.000000      0.0   \n",
      "4    Very Berry Hibiscus Starbucks Refreshers™ Beve...   60.000000      0.0   \n",
      "..                                                 ...         ...      ...   \n",
      "172                                 Chocolate Smoothie  320.000000      5.0   \n",
      "173                                Strawberry Smoothie  300.000000      2.0   \n",
      "174                                         Ginger Ale  135.163043      NaN   \n",
      "175                                          Lemon Ale  135.163043      NaN   \n",
      "176                                  Orange Cream Soda  135.163043      NaN   \n",
      "\n",
      "     Carb. (g)  Fiber (g)  Protein  Sodium  \n",
      "0         11.0        0.0      0.0    10.0  \n",
      "1          NaN        NaN      NaN     NaN  \n",
      "2          NaN        NaN      NaN     NaN  \n",
      "3         18.0        1.0      0.0    10.0  \n",
      "4         14.0        1.0      0.0    10.0  \n",
      "..         ...        ...      ...     ...  \n",
      "172       53.0        8.0     20.0   170.0  \n",
      "173       60.0        7.0     16.0   130.0  \n",
      "174        NaN        NaN      NaN     NaN  \n",
      "175        NaN        NaN      NaN     NaN  \n",
      "176        NaN        NaN      NaN     NaN  \n",
      "\n",
      "[177 rows x 7 columns]\n"
     ]
    }
   ],
   "source": [
    "# SimpleImputer is used to fill missing values with mean or median.\n",
    "\n",
    "imr = SimpleImputer(missing_values=np.nan, strategy='mean') # or median\n",
    "data2[['Calories']] = imr.fit_transform(data2[['Calories']])\n",
    "print(data2)"
   ]
  },
  {
   "cell_type": "code",
   "execution_count": 59,
   "id": "02a36038",
   "metadata": {},
   "outputs": [
    {
     "name": "stdout",
     "output_type": "stream",
     "text": [
      "                                                  Name    Calories   Fat (g)  \\\n",
      "0             Cool Lime Starbucks Refreshers™ Beverage   45.000000  0.000000   \n",
      "1                                     Ombré Pink Drink  135.163043  2.336957   \n",
      "2                                           Pink Drink  135.163043  2.336957   \n",
      "3       Strawberry Acai Starbucks Refreshers™ Beverage   80.000000  0.000000   \n",
      "4    Very Berry Hibiscus Starbucks Refreshers™ Beve...   60.000000  0.000000   \n",
      "..                                                 ...         ...       ...   \n",
      "172                                 Chocolate Smoothie  320.000000  5.000000   \n",
      "173                                Strawberry Smoothie  300.000000  2.000000   \n",
      "174                                         Ginger Ale  135.163043  2.336957   \n",
      "175                                          Lemon Ale  135.163043  2.336957   \n",
      "176                                  Orange Cream Soda  135.163043  2.336957   \n",
      "\n",
      "     Carb. (g)  Fiber (g)  Protein  Sodium  \n",
      "0         11.0        0.0      0.0    10.0  \n",
      "1          NaN        NaN      NaN     NaN  \n",
      "2          NaN        NaN      NaN     NaN  \n",
      "3         18.0        1.0      0.0    10.0  \n",
      "4         14.0        1.0      0.0    10.0  \n",
      "..         ...        ...      ...     ...  \n",
      "172       53.0        8.0     20.0   170.0  \n",
      "173       60.0        7.0     16.0   130.0  \n",
      "174        NaN        NaN      NaN     NaN  \n",
      "175        NaN        NaN      NaN     NaN  \n",
      "176        NaN        NaN      NaN     NaN  \n",
      "\n",
      "[177 rows x 7 columns]\n"
     ]
    }
   ],
   "source": [
    "data2[['Fat (g)']] = imr.fit_transform(data2[['Fat (g)']])\n",
    "print(data2)"
   ]
  },
  {
   "cell_type": "code",
   "execution_count": null,
   "id": "c66c4943",
   "metadata": {},
   "outputs": [],
   "source": []
  }
 ],
 "metadata": {
  "kernelspec": {
   "display_name": "Python 3",
   "language": "python",
   "name": "python3"
  },
  "language_info": {
   "codemirror_mode": {
    "name": "ipython",
    "version": 3
   },
   "file_extension": ".py",
   "mimetype": "text/x-python",
   "name": "python",
   "nbconvert_exporter": "python",
   "pygments_lexer": "ipython3",
   "version": "3.8.8"
  }
 },
 "nbformat": 4,
 "nbformat_minor": 5
}
